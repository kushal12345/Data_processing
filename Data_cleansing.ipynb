{
 "cells": [
  {
   "cell_type": "markdown",
   "metadata": {},
   "source": [
    "## Adding missing values using pandas data frame"
   ]
  },
  {
   "cell_type": "code",
   "execution_count": 2,
   "metadata": {},
   "outputs": [],
   "source": [
    "import pandas as pd \n",
    "import numpy as np"
   ]
  },
  {
   "cell_type": "code",
   "execution_count": 3,
   "metadata": {},
   "outputs": [],
   "source": [
    "df = pd.DataFrame(np.random.randn(5,3), index=['a','c','e','f','h'], columns=['One','Two','Three'])"
   ]
  },
  {
   "cell_type": "code",
   "execution_count": 4,
   "metadata": {},
   "outputs": [
    {
     "name": "stdout",
     "output_type": "stream",
     "text": [
      "        One       Two     Three\n",
      "a -1.236042 -1.271768 -1.176143\n",
      "c -0.457834 -1.073697  1.315030\n",
      "e  0.531519 -0.427890  1.384911\n",
      "f  1.172758 -1.943809 -0.113831\n",
      "h -0.557240  1.109904 -1.285962\n"
     ]
    }
   ],
   "source": [
    "print(df)"
   ]
  },
  {
   "cell_type": "code",
   "execution_count": 11,
   "metadata": {
    "scrolled": false
   },
   "outputs": [
    {
     "name": "stdout",
     "output_type": "stream",
     "text": [
      "        One       Two     Three\n",
      "a -1.236042 -1.271768 -1.176143\n",
      "b       NaN       NaN       NaN\n",
      "c -0.457834 -1.073697  1.315030\n",
      "d       NaN       NaN       NaN\n",
      "e  0.531519 -0.427890  1.384911\n",
      "f  1.172758 -1.943809 -0.113831\n",
      "g       NaN       NaN       NaN\n",
      "h -0.557240  1.109904 -1.285962\n"
     ]
    }
   ],
   "source": [
    "df = df.reindex(['a','b','c','d','e','f','g','h'])\n",
    "print(df)"
   ]
  },
  {
   "cell_type": "markdown",
   "metadata": {},
   "source": [
    "## Check for missing values "
   ]
  },
  {
   "cell_type": "code",
   "execution_count": 12,
   "metadata": {},
   "outputs": [
    {
     "name": "stdout",
     "output_type": "stream",
     "text": [
      "a    False\n",
      "b     True\n",
      "c    False\n",
      "d     True\n",
      "e    False\n",
      "f    False\n",
      "g     True\n",
      "h    False\n",
      "Name: One, dtype: bool\n"
     ]
    }
   ],
   "source": [
    "print(df['One'].isnull())"
   ]
  },
  {
   "cell_type": "markdown",
   "metadata": {},
   "source": [
    "## Filling missing values or data "
   ]
  },
  {
   "cell_type": "code",
   "execution_count": 13,
   "metadata": {},
   "outputs": [
    {
     "name": "stdout",
     "output_type": "stream",
     "text": [
      "nan is replaced with 0\n"
     ]
    }
   ],
   "source": [
    "print(\"nan is replaced with 0\")"
   ]
  },
  {
   "cell_type": "code",
   "execution_count": 14,
   "metadata": {},
   "outputs": [
    {
     "name": "stdout",
     "output_type": "stream",
     "text": [
      "        One       Two     Three\n",
      "a -1.236042 -1.271768 -1.176143\n",
      "b  0.000000  0.000000  0.000000\n",
      "c -0.457834 -1.073697  1.315030\n",
      "d  0.000000  0.000000  0.000000\n",
      "e  0.531519 -0.427890  1.384911\n",
      "f  1.172758 -1.943809 -0.113831\n",
      "g  0.000000  0.000000  0.000000\n",
      "h -0.557240  1.109904 -1.285962\n"
     ]
    }
   ],
   "source": [
    " print(df.fillna(0))"
   ]
  },
  {
   "cell_type": "markdown",
   "metadata": {},
   "source": [
    "## Fill NA Forward and Backward"
   ]
  },
  {
   "cell_type": "code",
   "execution_count": 15,
   "metadata": {},
   "outputs": [
    {
     "name": "stdout",
     "output_type": "stream",
     "text": [
      "        One       Two     Three\n",
      "a -1.236042 -1.271768 -1.176143\n",
      "b -1.236042 -1.271768 -1.176143\n",
      "c -0.457834 -1.073697  1.315030\n",
      "d -0.457834 -1.073697  1.315030\n",
      "e  0.531519 -0.427890  1.384911\n",
      "f  1.172758 -1.943809 -0.113831\n",
      "g  1.172758 -1.943809 -0.113831\n",
      "h -0.557240  1.109904 -1.285962\n"
     ]
    }
   ],
   "source": [
    "print(df.fillna(method='pad'))"
   ]
  },
  {
   "cell_type": "code",
   "execution_count": 16,
   "metadata": {},
   "outputs": [
    {
     "name": "stdout",
     "output_type": "stream",
     "text": [
      "        One       Two     Three\n",
      "a -1.236042 -1.271768 -1.176143\n",
      "b -0.457834 -1.073697  1.315030\n",
      "c -0.457834 -1.073697  1.315030\n",
      "d  0.531519 -0.427890  1.384911\n",
      "e  0.531519 -0.427890  1.384911\n",
      "f  1.172758 -1.943809 -0.113831\n",
      "g -0.557240  1.109904 -1.285962\n",
      "h -0.557240  1.109904 -1.285962\n"
     ]
    }
   ],
   "source": [
    "print(df.fillna(method='bfill'))"
   ]
  },
  {
   "cell_type": "markdown",
   "metadata": {},
   "source": [
    "## Drop missing values "
   ]
  },
  {
   "cell_type": "code",
   "execution_count": 10,
   "metadata": {},
   "outputs": [
    {
     "name": "stdout",
     "output_type": "stream",
     "text": [
      "        One       Two     Three\n",
      "a  2.484896 -0.979332 -0.551280\n",
      "c  0.503564  1.354021  0.742311\n",
      "e -1.247471 -0.157329 -1.528688\n",
      "f  1.109485 -0.313946 -0.414935\n",
      "h  1.909439 -0.505259 -0.588318\n"
     ]
    }
   ],
   "source": [
    "print(df.dropna())"
   ]
  },
  {
   "cell_type": "markdown",
   "metadata": {},
   "source": [
    "## Replace missing Generic values"
   ]
  },
  {
   "cell_type": "code",
   "execution_count": 11,
   "metadata": {},
   "outputs": [],
   "source": [
    "df1 = pd.DataFrame({'Name':['Kushal','Ram','Shyam','Hari','Gaurab','Keshab','Avin'], 'Age' : [22,32,25,26,20,22,22]})"
   ]
  },
  {
   "cell_type": "code",
   "execution_count": 12,
   "metadata": {},
   "outputs": [
    {
     "name": "stdout",
     "output_type": "stream",
     "text": [
      "     Name  Age\n",
      "0  Kushal   22\n",
      "1  Sudhir   22\n",
      "2   Shyam   25\n",
      "3    Hari   26\n",
      "4  Gaurab   20\n",
      "5  Keshab   22\n",
      "6    Avin   22\n"
     ]
    }
   ],
   "source": [
    "print(df1.replace({'Ram':'Sudhir',32:22}))"
   ]
  },
  {
   "cell_type": "code",
   "execution_count": null,
   "metadata": {},
   "outputs": [],
   "source": []
  }
 ],
 "metadata": {
  "kernelspec": {
   "display_name": "Python 3",
   "language": "python",
   "name": "python3"
  },
  "language_info": {
   "codemirror_mode": {
    "name": "ipython",
    "version": 3
   },
   "file_extension": ".py",
   "mimetype": "text/x-python",
   "name": "python",
   "nbconvert_exporter": "python",
   "pygments_lexer": "ipython3",
   "version": "3.7.1"
  }
 },
 "nbformat": 4,
 "nbformat_minor": 2
}
