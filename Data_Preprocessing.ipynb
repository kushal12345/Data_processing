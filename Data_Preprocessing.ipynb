{
 "cells": [
  {
   "cell_type": "markdown",
   "metadata": {},
   "source": [
    "### Exercise\n",
    "\n",
    "#### Investigate the effect of data scaling (preprocessing.scale()) for the three classifiers we have seen in the lecture (naive Bayes, kNN, logistic regression) and the Wisconsin breast cancer data (load breast cancer).\n",
    "\n",
    "#### Report any difference in the optimum parameters found by cross-validation and the evaluation results for scaled versus raw data.\n",
    "\n",
    "#### Shortly explain for the three classifiers, why there is / there isn’t a difference."
   ]
  },
  {
   "cell_type": "markdown",
   "metadata": {},
   "source": [
    "1) Several algorithms, for example SVMs, can sometimes converge far faster on normalized data.\n",
    "\n",
    "2) When your model is sensitive to magnitude, and the units of two different features are different, and arbitrary.  This is like the case you suggest, in which something gets more influence than it should.\n",
    "\n",
    "3) But of course, not all algorithms are sensitive to magnitude in the way you suggest. Linear regression coefficients will be identical if you do, or don't, scale your data, because it's looking at proportional relationships between them.\n",
    "\n",
    "\n",
    "\n"
   ]
  },
  {
   "cell_type": "code",
   "execution_count": 64,
   "metadata": {},
   "outputs": [],
   "source": [
    "%matplotlib inline\n",
    "\n",
    "import numpy as np\n",
    "from pprint import pprint\n",
    "import matplotlib.pyplot as plt\n",
    "from matplotlib.colors import ListedColormap\n",
    "\n",
    "from sklearn import neighbors, preprocessing\n",
    "from sklearn.preprocessing import PolynomialFeatures\n",
    "\n",
    "from sklearn.linear_model import LogisticRegression\n",
    "from sklearn.naive_bayes import GaussianNB\n",
    "from sklearn.dummy import DummyClassifier\n",
    "\n",
    "from sklearn.pipeline import Pipeline\n",
    "\n",
    "from sklearn.datasets import load_breast_cancer\n",
    "from sklearn.model_selection import train_test_split, StratifiedShuffleSplit\n",
    "from sklearn.model_selection import GridSearchCV\n",
    "\n",
    "from sklearn.metrics import classification_report, roc_curve, auc"
   ]
  },
  {
   "cell_type": "code",
   "execution_count": 65,
   "metadata": {},
   "outputs": [
    {
     "name": "stdout",
     "output_type": "stream",
     "text": [
      "569\n",
      "[[1.799e+01 1.038e+01 1.228e+02 ... 2.654e-01 4.601e-01 1.189e-01]\n",
      " [2.057e+01 1.777e+01 1.329e+02 ... 1.860e-01 2.750e-01 8.902e-02]\n",
      " [1.969e+01 2.125e+01 1.300e+02 ... 2.430e-01 3.613e-01 8.758e-02]\n",
      " ...\n",
      " [1.660e+01 2.808e+01 1.083e+02 ... 1.418e-01 2.218e-01 7.820e-02]\n",
      " [2.060e+01 2.933e+01 1.401e+02 ... 2.650e-01 4.087e-01 1.240e-01]\n",
      " [7.760e+00 2.454e+01 4.792e+01 ... 0.000e+00 2.871e-01 7.039e-02]]\n",
      "\n",
      "......................................................................\n",
      "\n",
      "[2.057e+01 1.777e+01 1.329e+02 1.326e+03 8.474e-02 7.864e-02 8.690e-02\n",
      " 7.017e-02 1.812e-01 5.667e-02 5.435e-01 7.339e-01 3.398e+00 7.408e+01\n",
      " 5.225e-03 1.308e-02 1.860e-02 1.340e-02 1.389e-02 3.532e-03 2.499e+01\n",
      " 2.341e+01 1.588e+02 1.956e+03 1.238e-01 1.866e-01 2.416e-01 1.860e-01\n",
      " 2.750e-01 8.902e-02]\n",
      "30\n"
     ]
    }
   ],
   "source": [
    "# load data as inputs-outputs\n",
    "X, y = load_breast_cancer(return_X_y=True)\n",
    "\n",
    "print(len(X))\n",
    "print(X)\n",
    "print(\"\\n......................................................................\\n\")\n",
    "print(X[1])\n",
    "print(len(X[1]))"
   ]
  },
  {
   "cell_type": "code",
   "execution_count": 66,
   "metadata": {
    "scrolled": true
   },
   "outputs": [
    {
     "name": "stdout",
     "output_type": "stream",
     "text": [
      "30\n",
      "30\n"
     ]
    },
    {
     "data": {
      "image/png": "[encoded data removed]",
      "text/plain": [
       "<Figure size 432x288 with 1 Axes>"
      ]
     },
     "metadata": {
      "needs_background": "light"
     },
     "output_type": "display_data"
    }
   ],
   "source": [
    "# data are not normalized, so normalize, often better\n",
    "means = X.mean(axis=0)\n",
    "#print(sorted(means))\n",
    "print(len(means))\n",
    "stds = X.std(axis=0)\n",
    "print (len(stds))\n",
    "#print(sorted(stds))\n",
    "ts = list(range(0,len(means)))\n",
    "plt.errorbar(ts, means, stds/2, linestyle='None', marker='*')\n",
    "plt.title(\"mean values and standard deviation for wdbc data set\")\n",
    "plt.show()"
   ]
  },
  {
   "cell_type": "code",
   "execution_count": 67,
   "metadata": {},
   "outputs": [],
   "source": [
    "# Split the raw data into train and test set\n",
    "Xraw_train, Xraw_test, yraw_train, yraw_test = train_test_split(X, y, test_size=0.20, random_state=42)"
   ]
  },
  {
   "cell_type": "code",
   "execution_count": 68,
   "metadata": {},
   "outputs": [
    {
     "data": {
      "image/png": "[encoded data removed]",
      "text/plain": [
       "<Figure size 432x288 with 1 Axes>"
      ]
     },
     "metadata": {
      "needs_background": "light"
     },
     "output_type": "display_data"
    }
   ],
   "source": [
    "# scaling the data\n",
    "X_scaled = preprocessing.scale(X)\n",
    "\n",
    "means = X_scaled.mean(axis=0)\n",
    "stds = X_scaled.std(axis=0)\n",
    "ts = list(range(0,len(means)))\n",
    "plt.errorbar(ts, means, stds/2, linestyle='None', marker='*')\n",
    "plt.title(\"mean values and standard deviation for scaled wdbc data set\")\n",
    "plt.show()\n"
   ]
  },
  {
   "cell_type": "code",
   "execution_count": 6,
   "metadata": {},
   "outputs": [],
   "source": [
    "# Split the data into train and test set\n",
    "X_train, X_test, y_train, y_test = train_test_split(X_scaled, y, test_size=0.20, random_state=42)"
   ]
  },
  {
   "cell_type": "markdown",
   "metadata": {},
   "source": [
    "### Using the scaled data to see the optimum parameters as well as classification results (for kNN classifier)"
   ]
  },
  {
   "cell_type": "code",
   "execution_count": 7,
   "metadata": {},
   "outputs": [
    {
     "name": "stdout",
     "output_type": "stream",
     "text": [
      "\n",
      " The best parameters are {'algorithm': 'brute', 'metric': 'euclidean', 'n_neighbors': 1} with a score of 0.96\n",
      "\n",
      "\n"
     ]
    }
   ],
   "source": [
    "# first method: kNN classifier for the scaled data\n",
    "# optimize the metaparameter k by cross-validation\n",
    "\n",
    "params = {\"n_neighbors\": np.arange(1, 31, 2),\n",
    "    \"metric\": [\"euclidean\", \"cityblock\"],\n",
    "    \"algorithm\": [\"brute\"]}\n",
    "cv = StratifiedShuffleSplit(n_splits=3, test_size=0.2, random_state=42)\n",
    "grid = GridSearchCV(neighbors.KNeighborsClassifier(), param_grid=params, cv=cv, n_jobs=-1)\n",
    "grid.fit(X_train, y_train)\n",
    "best_param = grid.best_params_\n",
    "\n",
    "print(\"\\n The best parameters are %s with a score of %0.2f\" % (grid.best_params_, grid.best_score_))\n",
    "print (\"\\n\")"
   ]
  },
  {
   "cell_type": "code",
   "execution_count": 59,
   "metadata": {},
   "outputs": [
    {
     "name": "stdout",
     "output_type": "stream",
     "text": [
      "knn: 1.00 training score, 0.94 test score\n",
      "\n",
      "\n"
     ]
    }
   ],
   "source": [
    "# For the scaled data\n",
    "# Now fit the model with optimum parameters for all training data, evaluate on the test set\n",
    "\n",
    "clf_knn = neighbors.KNeighborsClassifier(best_param['n_neighbors'],metric=best_param['metric'],algorithm=best_param['algorithm'])\n",
    "clf_knn.fit(X_train,y_train)\n",
    "eval_train = clf_knn.score(X_train,y_train)\n",
    "eval_test = clf_knn.score(X_test,y_test)\n",
    "print(\"knn: %0.2f training score, %0.2f test score\\n\" % (eval_train,eval_test))\n",
    "print(\"\")     "
   ]
  },
  {
   "cell_type": "markdown",
   "metadata": {},
   "source": [
    "### Using the raw (unscaled) data to see the optimum parameters as well as classification results (for kNN classifier)"
   ]
  },
  {
   "cell_type": "code",
   "execution_count": 60,
   "metadata": {},
   "outputs": [
    {
     "name": "stdout",
     "output_type": "stream",
     "text": [
      "\n",
      " The best parameters are {'algorithm': 'brute', 'metric': 'cityblock', 'n_neighbors': 5} with a score of 0.92\n",
      "\n",
      "\n"
     ]
    }
   ],
   "source": [
    "# first method: kNN classifier for the raw data\n",
    "# optimize the metaparameter k by cross-validation\n",
    "\n",
    "params = {\"n_neighbors\": np.arange(1, 31, 2),\n",
    "    \"metric\": [\"euclidean\", \"cityblock\"],\n",
    "    \"algorithm\": [\"brute\"]}\n",
    "cv = StratifiedShuffleSplit(n_splits=3, test_size=0.2, random_state=42)\n",
    "grid = GridSearchCV(neighbors.KNeighborsClassifier(), param_grid=params, cv=cv, n_jobs=-1)\n",
    "grid.fit(Xraw_train, yraw_train)\n",
    "best_param = grid.best_params_\n",
    "\n",
    "print(\"\\n The best parameters are %s with a score of %0.2f\" % (grid.best_params_, grid.best_score_))\n",
    "print (\"\\n\")"
   ]
  },
  {
   "cell_type": "code",
   "execution_count": 61,
   "metadata": {},
   "outputs": [
    {
     "name": "stdout",
     "output_type": "stream",
     "text": [
      "knn: 0.95 training score, 0.95 test score\n",
      "\n",
      "\n"
     ]
    }
   ],
   "source": [
    "# For the raw data\n",
    "# Now fit the model with optimum parameters for all training data, evaluate on the test set\n",
    "\n",
    "clf_knn = neighbors.KNeighborsClassifier(best_param['n_neighbors'],metric=best_param['metric'],algorithm=best_param['algorithm'])\n",
    "clf_knn.fit(Xraw_train,yraw_train)\n",
    "eval_train = clf_knn.score(Xraw_train,yraw_train)\n",
    "eval_test = clf_knn.score(Xraw_test,yraw_test)\n",
    "print(\"knn: %0.2f training score, %0.2f test score\\n\" % (eval_train,eval_test))\n",
    "print(\"\")     "
   ]
  },
  {
   "cell_type": "markdown",
   "metadata": {},
   "source": [
    "### Using the scaled data to see the optimum parameters as well as classification results(for logistic regression with polynomial pre-processing)"
   ]
  },
  {
   "cell_type": "code",
   "execution_count": 62,
   "metadata": {},
   "outputs": [
    {
     "name": "stdout",
     "output_type": "stream",
     "text": [
      "The best parameters are {'pre__degree': 3, 'regr__C': 1, 'regr__solver': 'lbfgs'} with a score of 0.97\n"
     ]
    }
   ],
   "source": [
    "# Logistic regression with polynomial preprocessing\n",
    "# optimize the metaparameter d = degree and C = smoothing by cross-validation\n",
    "\n",
    "params = {\"pre__degree\": [1,2,3],\n",
    "    \"regr__solver\": [\"lbfgs\"],\n",
    "    \"regr__C\": [0.1, 1, 2]}\n",
    "cv = StratifiedShuffleSplit(n_splits=3, test_size=0.2, random_state=42)\n",
    "clf_logreg = Pipeline([('pre',PolynomialFeatures()),('regr',LogisticRegression())])\n",
    "\n",
    "grid = GridSearchCV(clf_logreg, param_grid=params, cv=cv)\n",
    "grid.fit(X_train, y_train)\n",
    "best_param = grid.best_params_\n",
    "\n",
    "print(\"The best parameters are %s with a score of %0.2f\" % (grid.best_params_, grid.best_score_))\n"
   ]
  },
  {
   "cell_type": "code",
   "execution_count": 63,
   "metadata": {},
   "outputs": [
    {
     "name": "stdout",
     "output_type": "stream",
     "text": [
      "logistic regression: 1.00 training score and 0.96 test score\n",
      "\n"
     ]
    }
   ],
   "source": [
    "# Now,fit the model with optimum parameters for all training data, evaluate on the test set\n",
    "\n",
    "clf_logreg.set_params(pre__degree = best_param['pre__degree'],regr__solver=best_param['regr__solver'],regr__C=best_param['regr__C'])\n",
    "clf_logreg.fit(X_train,y_train)\n",
    "eval_train = clf_logreg.score(X_train,y_train)\n",
    "eval_test = clf_logreg.score(X_test,y_test)\n",
    "print(\"logistic regression: %0.2f training score and %0.2f test score\" % (eval_train,eval_test))\n",
    "print(\"\") "
   ]
  },
  {
   "cell_type": "markdown",
   "metadata": {},
   "source": [
    "### Using the raw (unscaled) data to see the optimum parameters as well as classification results(for logistic regression with polynomial pre-processing)"
   ]
  },
  {
   "cell_type": "code",
   "execution_count": 13,
   "metadata": {},
   "outputs": [
    {
     "name": "stdout",
     "output_type": "stream",
     "text": [
      "The best parameters are {'pre__degree': 1, 'regr__C': 1, 'regr__solver': 'liblinear'} with a score of 0.96\n"
     ]
    }
   ],
   "source": [
    "# Logistic regression with polynomial preprocessing\n",
    "# optimize the metaparameter d = degree and C = smoothing by cross-validation\n",
    "\n",
    "params = {\"pre__degree\": [1,2,3],\n",
    "    \"regr__solver\": [\"liblinear\"],\n",
    "    \"regr__C\": [0.1, 1, 2]}\n",
    "cv = StratifiedShuffleSplit(n_splits=3, test_size=0.2, random_state=42)\n",
    "clf_logreg = Pipeline([('pre',PolynomialFeatures()),('regr',LogisticRegression(max_iter=500))])\n",
    "\n",
    "grid = GridSearchCV(clf_logreg, param_grid=params, cv=cv)\n",
    "grid.fit(Xraw_train, yraw_train)\n",
    "best_param = grid.best_params_\n",
    "\n",
    "print(\"The best parameters are %s with a score of %0.2f\" % (grid.best_params_, grid.best_score_))\n"
   ]
  },
  {
   "cell_type": "code",
   "execution_count": 14,
   "metadata": {},
   "outputs": [
    {
     "name": "stdout",
     "output_type": "stream",
     "text": [
      "logistic regression: 0.96 training score and 0.96 test score\n",
      "\n"
     ]
    }
   ],
   "source": [
    "# and fit the model with optimum parameters for all training data, evaluate on the test set\n",
    "\n",
    "clf_logreg.set_params(pre__degree = best_param['pre__degree'],regr__solver=best_param['regr__solver'],regr__C=best_param['regr__C'])\n",
    "clf_logreg.fit(Xraw_train,yraw_train)\n",
    "eval_train = clf_logreg.score(Xraw_train,yraw_train)\n",
    "eval_test = clf_logreg.score(Xraw_test,yraw_test)\n",
    "print(\"logistic regression: %0.2f training score and %0.2f test score\" % (eval_train,eval_test))\n",
    "print(\"\") "
   ]
  },
  {
   "cell_type": "markdown",
   "metadata": {},
   "source": [
    "### Using the scaled data to see the optimum parameters as well as classification results (for GaussianNB)"
   ]
  },
  {
   "cell_type": "code",
   "execution_count": 15,
   "metadata": {},
   "outputs": [
    {
     "name": "stdout",
     "output_type": "stream",
     "text": [
      "Gaussian naive Bayes: 0.94 training score and 0.96 test score\n",
      "\n"
     ]
    }
   ],
   "source": [
    "# final method: Gaussian naive Bayes\n",
    "# no metaparameters to optimize\n",
    "\n",
    "clf_gnb = GaussianNB()\n",
    "clf_gnb.fit(X_train, y_train)\n",
    "eval_train = clf_gnb.score(X_train,y_train)\n",
    "eval_test = clf_gnb.score(X_test,y_test)\n",
    "print(\"Gaussian naive Bayes: %0.2f training score and %0.2f test score\" % (eval_train,eval_test))\n",
    "print(\"\") \n"
   ]
  },
  {
   "cell_type": "markdown",
   "metadata": {},
   "source": [
    "### Using the raw (unscaled) data to see the optimum parameters as well as classification results (for GaussianNB)"
   ]
  },
  {
   "cell_type": "code",
   "execution_count": 16,
   "metadata": {},
   "outputs": [
    {
     "name": "stdout",
     "output_type": "stream",
     "text": [
      "Gaussian naive Bayes: 0.94 training score and 0.97 test score\n",
      "\n"
     ]
    }
   ],
   "source": [
    "# final method: Gaussian naive Bayes\n",
    "# no metaparameters to optimize\n",
    "\n",
    "clf_gnb = GaussianNB()\n",
    "clf_gnb.fit(Xraw_train, yraw_train)\n",
    "eval_train = clf_gnb.score(Xraw_train,yraw_train)\n",
    "eval_test = clf_gnb.score(Xraw_test,yraw_test)\n",
    "print(\"Gaussian naive Bayes: %0.2f training score and %0.2f test score\" % (eval_train,eval_test))\n",
    "print(\"\") "
   ]
  },
  {
   "cell_type": "markdown",
   "metadata": {},
   "source": [
    "### Evaluating other performance metrics for the above three classifiers (scaled data)"
   ]
  },
  {
   "cell_type": "code",
   "execution_count": 17,
   "metadata": {},
   "outputs": [
    {
     "name": "stdout",
     "output_type": "stream",
     "text": [
      "knn\n",
      "              precision    recall  f1-score   support\n",
      "\n",
      "           0       0.00      0.00      0.00        43\n",
      "           1       0.62      1.00      0.77        71\n",
      "\n",
      "   micro avg       0.62      0.62      0.62       114\n",
      "   macro avg       0.31      0.50      0.38       114\n",
      "weighted avg       0.39      0.62      0.48       114\n",
      "\n",
      "\n",
      "logreg\n",
      "              precision    recall  f1-score   support\n",
      "\n",
      "           0       0.62      0.56      0.59        43\n",
      "           1       0.75      0.79      0.77        71\n",
      "\n",
      "   micro avg       0.70      0.70      0.70       114\n",
      "   macro avg       0.68      0.67      0.68       114\n",
      "weighted avg       0.70      0.70      0.70       114\n",
      "\n",
      "\n",
      "gnb\n",
      "              precision    recall  f1-score   support\n",
      "\n",
      "           0       0.38      1.00      0.55        43\n",
      "           1       0.00      0.00      0.00        71\n",
      "\n",
      "   micro avg       0.38      0.38      0.38       114\n",
      "   macro avg       0.19      0.50      0.27       114\n",
      "weighted avg       0.14      0.38      0.21       114\n",
      "\n",
      "\n"
     ]
    },
    {
     "name": "stderr",
     "output_type": "stream",
     "text": [
      "/usr/lib/python3.7/site-packages/sklearn/metrics/classification.py:1143: UndefinedMetricWarning: Precision and F-score are ill-defined and being set to 0.0 in labels with no predicted samples.\n",
      "  'precision', 'predicted', average, warn_for)\n",
      "/usr/lib/python3.7/site-packages/sklearn/metrics/classification.py:1143: UndefinedMetricWarning: Precision and F-score are ill-defined and being set to 0.0 in labels with no predicted samples.\n",
      "  'precision', 'predicted', average, warn_for)\n"
     ]
    }
   ],
   "source": [
    "# evaluations beyond the mere accuracy for scaled data\n",
    "# note that different evaluation measures are\n",
    "# suited for different settings (2 vs more classes, multilabel, ...)\n",
    "\n",
    "print(\"knn\")\n",
    "y_knn = clf_knn.predict(X_test)\n",
    "y_knn_score = clf_knn.predict_proba(X_test)[:,1]\n",
    "print(classification_report(y_test,y_knn))\n",
    "print(\"\")\n",
    "print(\"logreg\")\n",
    "y_logreg = clf_logreg.predict(X_test)\n",
    "y_logreg_score = clf_logreg.predict_proba(X_test)[:,1]\n",
    "print(classification_report(y_test,y_logreg))\n",
    "print(\"\")\n",
    "print(\"gnb\")\n",
    "y_gnb= clf_gnb.predict(X_test)\n",
    "y_gnb_score= clf_gnb.predict_proba(X_test)[:,1]\n",
    "print(classification_report(y_test,y_gnb))\n",
    "print(\"\")\n"
   ]
  },
  {
   "cell_type": "markdown",
   "metadata": {},
   "source": [
    "### Evaluating other performance metrics for the above three classifiers (raw (unscaled) data)"
   ]
  },
  {
   "cell_type": "code",
   "execution_count": 18,
   "metadata": {},
   "outputs": [
    {
     "name": "stdout",
     "output_type": "stream",
     "text": [
      "knn\n",
      "              precision    recall  f1-score   support\n",
      "\n",
      "           0       0.97      0.88      0.93        43\n",
      "           1       0.93      0.99      0.96        71\n",
      "\n",
      "   micro avg       0.95      0.95      0.95       114\n",
      "   macro avg       0.95      0.93      0.94       114\n",
      "weighted avg       0.95      0.95      0.95       114\n",
      "\n",
      "\n",
      "logreg\n",
      "              precision    recall  f1-score   support\n",
      "\n",
      "           0       0.97      0.91      0.94        43\n",
      "           1       0.95      0.99      0.97        71\n",
      "\n",
      "   micro avg       0.96      0.96      0.96       114\n",
      "   macro avg       0.96      0.95      0.95       114\n",
      "weighted avg       0.96      0.96      0.96       114\n",
      "\n",
      "\n",
      "gnb\n",
      "              precision    recall  f1-score   support\n",
      "\n",
      "           0       1.00      0.93      0.96        43\n",
      "           1       0.96      1.00      0.98        71\n",
      "\n",
      "   micro avg       0.97      0.97      0.97       114\n",
      "   macro avg       0.98      0.97      0.97       114\n",
      "weighted avg       0.97      0.97      0.97       114\n",
      "\n",
      "\n"
     ]
    }
   ],
   "source": [
    "# For raw data # Runtime error: overflow encountered\n",
    "\n",
    "print(\"knn\")\n",
    "yraw_knn = clf_knn.predict(Xraw_test)\n",
    "yraw_knn_score = clf_knn.predict_proba(Xraw_test)[:,1]\n",
    "print(classification_report(yraw_test,yraw_knn))\n",
    "print(\"\")\n",
    "print(\"logreg\")\n",
    "yraw_logreg = clf_logreg.predict(Xraw_test)\n",
    "yraw_logreg_score = clf_logreg.predict_proba(Xraw_test)[:,1]\n",
    "print(classification_report(yraw_test,yraw_logreg))\n",
    "print(\"\")\n",
    "print(\"gnb\")\n",
    "yraw_gnb= clf_gnb.predict(Xraw_test)\n",
    "yraw_gnb_score= clf_gnb.predict_proba(Xraw_test)[:,1]\n",
    "print(classification_report(yraw_test,yraw_gnb))\n",
    "print(\"\")"
   ]
  },
  {
   "cell_type": "markdown",
   "metadata": {},
   "source": [
    "### Exercise:\n",
    "\n",
    "#### Extend the text classification example for the 20 newsgroups data set such that\n",
    "#### • the parameter alpha is optimized by cross-validation\n",
    "#### • the evaluation also displays other measures than the mere classification accuracy\n",
    "#### • the result is compared to a default classifier\n",
    "\n",
    "#### [DOC] Report the results which you achieve when classifying the categories (’rec.autos’, ’rec.motorcycles’) and classifying the categories (’alt.atheism’, ’sci.space’)"
   ]
  },
  {
   "cell_type": "code",
   "execution_count": 19,
   "metadata": {},
   "outputs": [],
   "source": [
    "import numpy as np\n",
    "from sklearn.naive_bayes import MultinomialNB, BernoulliNB\n",
    "from sklearn.pipeline import Pipeline\n",
    "from sklearn.feature_extraction.text import CountVectorizer\n",
    "from sklearn.feature_extraction.text import TfidfTransformer"
   ]
  },
  {
   "cell_type": "markdown",
   "metadata": {},
   "source": [
    " ### For the categories (’rec.autos’, ’rec.motorcycles’) "
   ]
  },
  {
   "cell_type": "code",
   "execution_count": 20,
   "metadata": {},
   "outputs": [
    {
     "name": "stderr",
     "output_type": "stream",
     "text": [
      "Downloading 20news dataset. This may take a few minutes.\n",
      "Downloading dataset from https://ndownloader.figshare.com/files/5975967 (14 MB)\n"
     ]
    },
    {
     "name": "stdout",
     "output_type": "stream",
     "text": [
      "training score 0.97\n",
      "test score 0.83\n"
     ]
    }
   ],
   "source": [
    "# load data, subset of 20 newsgroup data set\n",
    "\n",
    "from sklearn.datasets import fetch_20newsgroups\n",
    "categories = ['rec.autos','rec.motorcycles']\n",
    "twenty_train = fetch_20newsgroups(subset='train', categories=categories, shuffle=True, random_state=42, remove=('headers', 'footers', 'quotes'))\n",
    "\n",
    "# data are not vectorial yet, define pipeline to \n",
    "# compute tf idf and subsequent multinomial naive Bayes \n",
    "\n",
    "#alpha = 0 does not work, you can give it a try!\n",
    "alpha = 1e-2\n",
    "text_clf = Pipeline([('vect', CountVectorizer()),('tfidf', TfidfTransformer()),('clf', MultinomialNB()),])\n",
    "text_clf.set_params(clf__alpha = alpha)\n",
    "\n",
    "\n",
    "# train on training data, predict test set\n",
    "text_clf = text_clf.fit(twenty_train.data, twenty_train.target)\n",
    "\n",
    "print(\"training score %0.2f\" % text_clf.score(twenty_train.data, twenty_train.target))\n",
    "twenty_test = fetch_20newsgroups(subset='test', categories=categories, shuffle=True, random_state=42, remove=('headers', 'footers', 'quotes'))\n",
    "print(\"test score %0.2f\" % text_clf.score(twenty_test.data, twenty_test.target))"
   ]
  },
  {
   "cell_type": "code",
   "execution_count": 21,
   "metadata": {},
   "outputs": [
    {
     "name": "stdout",
     "output_type": "stream",
     "text": [
      "The best parameters are {'clf__alpha': 0.001} with a score of 0.86\n"
     ]
    }
   ],
   "source": [
    "params = {\"clf__alpha\": np.arange(1e-3, 1e+0, 1)} # varying alpha from 0.001 to 0.10\n",
    "\n",
    "cv = StratifiedShuffleSplit(n_splits=3, test_size=0.2, random_state=42)\n",
    "grid = GridSearchCV(text_clf, param_grid=params, cv=cv)\n",
    "#grid.fit(X_train, y_train)\n",
    "grid.fit(twenty_train.data,twenty_train.target)\n",
    "best_param = grid.best_params_\n",
    "\n",
    "print(\"The best parameters are %s with a score of %0.2f\" % (grid.best_params_, grid.best_score_))\n"
   ]
  },
  {
   "cell_type": "code",
   "execution_count": 22,
   "metadata": {},
   "outputs": [
    {
     "name": "stdout",
     "output_type": "stream",
     "text": [
      " The test score for optimized alpha is:  0.8249370277078085\n"
     ]
    }
   ],
   "source": [
    "from sklearn import metrics\n",
    "\n",
    "# setting the best alpha\n",
    "text_clf.set_params(clf__alpha = 0.001)\n",
    "text_clf = text_clf.fit(twenty_train.data, twenty_train.target)\n",
    "# Get the test score\n",
    "print (\" The test score for optimized alpha is: \",text_clf.score(twenty_test.data, twenty_test.target))\n"
   ]
  },
  {
   "cell_type": "code",
   "execution_count": 23,
   "metadata": {},
   "outputs": [
    {
     "data": {
      "text/plain": [
       "array([[316,  80],\n",
       "       [ 59, 339]])"
      ]
     },
     "execution_count": 23,
     "metadata": {},
     "output_type": "execute_result"
    }
   ],
   "source": [
    "predicted = text_clf.predict(twenty_test.data)\n",
    "metrics.accuracy_score(twenty_test.target,predicted)\n",
    "metrics.confusion_matrix(twenty_test.target,predicted) # Getting the confusion matrix"
   ]
  },
  {
   "cell_type": "code",
   "execution_count": 24,
   "metadata": {},
   "outputs": [
    {
     "data": {
      "text/plain": [
       "0.8248692959748236"
      ]
     },
     "execution_count": 24,
     "metadata": {},
     "output_type": "execute_result"
    }
   ],
   "source": [
    "metrics.roc_auc_score(twenty_test.target,predicted) # Area under curve score\n",
    "\n",
    "#print(\"\")"
   ]
  },
  {
   "cell_type": "markdown",
   "metadata": {
    "collapsed": true
   },
   "source": [
    "### For categories 'alt.atheism','sci.space'"
   ]
  },
  {
   "cell_type": "code",
   "execution_count": 25,
   "metadata": {},
   "outputs": [
    {
     "name": "stdout",
     "output_type": "stream",
     "text": [
      "training score 0.99\n",
      "test score 0.91\n"
     ]
    }
   ],
   "source": [
    "# load data, subset of 20 newsgroup data set\n",
    "\n",
    "from sklearn.datasets import fetch_20newsgroups\n",
    "categories = ['alt.atheism','sci.space']\n",
    "twenty_train = fetch_20newsgroups(subset='train', categories=categories, shuffle=True, random_state=42, remove=('headers', 'footers', 'quotes'))\n",
    "\n",
    "# data are not vectorial yet, define pipeline to \n",
    "# compute tf idf and subsequent multinomial naive Bayes \n",
    "\n",
    "#alpha = 0 does not work, you can give it a try!\n",
    "alpha = 1e-2\n",
    "text_clf = Pipeline([('vect', CountVectorizer()),('tfidf', TfidfTransformer()),('clf', MultinomialNB()),])\n",
    "text_clf.set_params(clf__alpha = alpha)\n",
    "\n",
    "\n",
    "# train on training data, predict test set\n",
    "text_clf = text_clf.fit(twenty_train.data, twenty_train.target)\n",
    "\n",
    "print(\"training score %0.2f\" % text_clf.score(twenty_train.data, twenty_train.target))\n",
    "twenty_test = fetch_20newsgroups(subset='test', categories=categories, shuffle=True, random_state=42, remove=('headers', 'footers', 'quotes'))\n",
    "print(\"test score %0.2f\" % text_clf.score(twenty_test.data, twenty_test.target))"
   ]
  },
  {
   "cell_type": "code",
   "execution_count": 26,
   "metadata": {},
   "outputs": [
    {
     "name": "stdout",
     "output_type": "stream",
     "text": [
      "The best parameters are {'clf__alpha': 0.001} with a score of 0.94\n"
     ]
    }
   ],
   "source": [
    "params = {\"clf__alpha\": np.arange(1e-3, 1e+0, 1)} # varying alpha from 0.001 to 0.10\n",
    "\n",
    "cv = StratifiedShuffleSplit(n_splits=3, test_size=0.2, random_state=42)\n",
    "grid = GridSearchCV(text_clf, param_grid=params, cv=cv)\n",
    "#grid.fit(X_train, y_train)\n",
    "grid.fit(twenty_train.data,twenty_train.target)\n",
    "best_param = grid.best_params_\n",
    "\n",
    "print(\"The best parameters are %s with a score of %0.2f\" % (grid.best_params_, grid.best_score_))"
   ]
  },
  {
   "cell_type": "code",
   "execution_count": 27,
   "metadata": {},
   "outputs": [
    {
     "name": "stdout",
     "output_type": "stream",
     "text": [
      " The test score for optimized alpha is:  0.9004207573632539\n"
     ]
    }
   ],
   "source": [
    "from sklearn import metrics\n",
    "\n",
    "# setting the best alpha\n",
    "text_clf.set_params(clf__alpha = 0.001)\n",
    "text_clf = text_clf.fit(twenty_train.data, twenty_train.target)\n",
    "# Get the test score\n",
    "print (\" The test score for optimized alpha is: \",text_clf.score(twenty_test.data, twenty_test.target))\n"
   ]
  },
  {
   "cell_type": "code",
   "execution_count": 28,
   "metadata": {},
   "outputs": [
    {
     "data": {
      "text/plain": [
       "array([[268,  51],\n",
       "       [ 20, 374]])"
      ]
     },
     "execution_count": 28,
     "metadata": {},
     "output_type": "execute_result"
    }
   ],
   "source": [
    "predicted = text_clf.predict(twenty_test.data)\n",
    "metrics.accuracy_score(twenty_test.target,predicted)\n",
    "metrics.confusion_matrix(twenty_test.target,predicted) # Getting the confusion matrix"
   ]
  },
  {
   "cell_type": "code",
   "execution_count": 29,
   "metadata": {},
   "outputs": [
    {
     "data": {
      "text/plain": [
       "0.8946819852648663"
      ]
     },
     "execution_count": 29,
     "metadata": {},
     "output_type": "execute_result"
    }
   ],
   "source": [
    "metrics.roc_auc_score(twenty_test.target,predicted)\n",
    "\n",
    "#metrics.f1_score(twenty_test.target,predicted)\n",
    "#print(classification_report(twenty_test,predicted))\n",
    "#print(\"\")\n"
   ]
  },
  {
   "cell_type": "markdown",
   "metadata": {},
   "source": [
    "### Comparing with default classifier (dummy classifier)"
   ]
  },
  {
   "cell_type": "code",
   "execution_count": 30,
   "metadata": {},
   "outputs": [],
   "source": [
    "# dummy classifier\n",
    "from sklearn.dummy import DummyClassifier\n",
    "text_clf = Pipeline([('vect', CountVectorizer()),('tfidf', TfidfTransformer()),('clf', DummyClassifier()),])\n"
   ]
  },
  {
   "cell_type": "code",
   "execution_count": 31,
   "metadata": {},
   "outputs": [
    {
     "name": "stdout",
     "output_type": "stream",
     "text": [
      " The test score for optimized alpha is:  0.5329593267882188\n"
     ]
    }
   ],
   "source": [
    "text_clf = text_clf.fit(twenty_train.data, twenty_train.target)\n",
    "# Get the test score\n",
    "print (\" The test score for optimized alpha is: \",text_clf.score(twenty_test.data, twenty_test.target))\n"
   ]
  },
  {
   "cell_type": "code",
   "execution_count": 32,
   "metadata": {},
   "outputs": [
    {
     "data": {
      "text/plain": [
       "array([[133, 186],\n",
       "       [161, 233]])"
      ]
     },
     "execution_count": 32,
     "metadata": {},
     "output_type": "execute_result"
    }
   ],
   "source": [
    "predicted = text_clf.predict(twenty_test.data)\n",
    "metrics.accuracy_score(twenty_test.target,predicted)\n",
    "metrics.confusion_matrix(twenty_test.target,predicted) # Getting the confusion matrix"
   ]
  },
  {
   "cell_type": "code",
   "execution_count": 33,
   "metadata": {},
   "outputs": [
    {
     "data": {
      "text/plain": [
       "0.5041492290310774"
      ]
     },
     "execution_count": 33,
     "metadata": {},
     "output_type": "execute_result"
    }
   ],
   "source": [
    "metrics.roc_auc_score(twenty_test.target,predicted)\n"
   ]
  },
  {
   "cell_type": "markdown",
   "metadata": {},
   "source": [
    "### Exercise: \n",
    "    \n",
    "Scikit-learn comes with a benchmark for handwritten digit recognition\n",
    "(load digits). Try to devise a good classifier for this data set, thereby realising the full\n",
    "training pipeline.\n",
    "\n",
    "[DOC] Document your experiments and the results, i.e.\n",
    "\n",
    "• data: number of data points, number and characteristic of features, number of classes,\n",
    "preprocessing if any, percentage of train/test split\n",
    "\n",
    "• classifier description: what is the classification problem, which classifiers do you test,\n",
    "\n",
    "• metaparameter selection: how is this done, what is the result\n",
    "\n",
    "• evaluation of the final classifier by suitable evaluation measures including a comparison\n",
    "to a baseline"
   ]
  },
  {
   "cell_type": "code",
   "execution_count": 34,
   "metadata": {},
   "outputs": [
    {
     "data": {
      "text/plain": [
       "(1797, 8, 8)"
      ]
     },
     "execution_count": 34,
     "metadata": {},
     "output_type": "execute_result"
    }
   ],
   "source": [
    "from sklearn import datasets\n",
    "digits = datasets.load_digits()\n",
    "digits.images.shape\n"
   ]
  },
  {
   "cell_type": "code",
   "execution_count": 35,
   "metadata": {},
   "outputs": [
    {
     "data": {
      "image/png": "[encoded data removed]",
      "text/plain": [
       "<Figure size 432x432 with 64 Axes>"
      ]
     },
     "metadata": {},
     "output_type": "display_data"
    }
   ],
   "source": [
    " # set up the figure\n",
    "fig = plt.figure(figsize=(6, 6))  # figure size in inches\n",
    "fig.subplots_adjust(left=0, right=1, bottom=0, top=1, hspace=0.05, wspace=0.05)\n",
    "\n",
    "# plot the digits: each image is 8x8 pixels\n",
    "for i in range(64):\n",
    "    ax = fig.add_subplot(8, 8, i + 1, xticks=[], yticks=[])\n",
    "    ax.imshow(digits.images[i], cmap=plt.cm.binary)\n",
    "    \n",
    "    # label the image with the target value\n",
    "    ax.text(0, 7, str(digits.target[i]))"
   ]
  },
  {
   "cell_type": "code",
   "execution_count": 36,
   "metadata": {},
   "outputs": [
    {
     "name": "stdout",
     "output_type": "stream",
     "text": [
      "(1797, 8, 8)\n",
      "(1797, 64)\n",
      "(1797,)\n",
      "number of datapoints:  1797\n",
      "number of classes: 10\n"
     ]
    }
   ],
   "source": [
    "print (digits.images.shape)\n",
    "X = digits.data\n",
    "y = digits.target\n",
    "print(X.shape)\n",
    "print(y.shape)\n",
    "print (\"number of datapoints: \", len(y))\n",
    "print (\"number of classes: 10\")"
   ]
  },
  {
   "cell_type": "code",
   "execution_count": 37,
   "metadata": {},
   "outputs": [
    {
     "name": "stdout",
     "output_type": "stream",
     "text": [
      "[ 0.  0.  5. 13.  9.  1.  0.  0.  0.  0. 13. 15. 10. 15.  5.  0.  0.  3.\n",
      " 15.  2.  0. 11.  8.  0.  0.  4. 12.  0.  0.  8.  8.  0.  0.  5.  8.  0.\n",
      "  0.  9.  8.  0.  0.  4. 11.  0.  1. 12.  7.  0.  0.  2. 14.  5. 10. 12.\n",
      "  0.  0.  0.  0.  6. 13. 10.  0.  0.  0.]\n",
      "\n",
      "\n",
      "Number of pixels in one datapoint:  64\n"
     ]
    }
   ],
   "source": [
    "# pixel data of one of the images\n",
    "print (digits.data[0])\n",
    "print (\"\\n\")\n",
    "print (\"Number of pixels in one datapoint: \",len(digits.data[0]))"
   ]
  },
  {
   "cell_type": "code",
   "execution_count": 38,
   "metadata": {},
   "outputs": [
    {
     "name": "stdout",
     "output_type": "stream",
     "text": [
      "[0 1 2 ... 8 9 8]\n"
     ]
    }
   ],
   "source": [
    "# the labels of the target (classes)\n",
    "print(digits.target)"
   ]
  },
  {
   "cell_type": "code",
   "execution_count": 39,
   "metadata": {},
   "outputs": [
    {
     "data": {
      "text/plain": [
       "(1797, 2)"
      ]
     },
     "execution_count": 39,
     "metadata": {},
     "output_type": "execute_result"
    }
   ],
   "source": [
    "# Projecting the data into 2D for visualisation\n",
    "from sklearn.manifold import Isomap #optional\n",
    "iso = Isomap(n_components = 2)\n",
    "data_projected = iso.fit_transform(digits.data)\n",
    "data_projected.shape"
   ]
  },
  {
   "cell_type": "code",
   "execution_count": 40,
   "metadata": {},
   "outputs": [
    {
     "data": {
      "image/png": "[encoded data removed]",
      "text/plain": [
       "<Figure size 432x288 with 2 Axes>"
      ]
     },
     "metadata": {
      "needs_background": "light"
     },
     "output_type": "display_data"
    }
   ],
   "source": [
    "plt.scatter(data_projected[:,0],data_projected[:,1], c= digits.target,edgecolor='none', alpha=0.5,\n",
    "            cmap=plt.cm.get_cmap('nipy_spectral', 10))\n",
    "plt.colorbar();"
   ]
  },
  {
   "cell_type": "markdown",
   "metadata": {},
   "source": [
    "### As we can see the points are fairly well separated, so a unsupervised classification model should do the job pretty well."
   ]
  },
  {
   "cell_type": "code",
   "execution_count": 41,
   "metadata": {},
   "outputs": [
    {
     "name": "stdout",
     "output_type": "stream",
     "text": [
      "(1347, 64) (450, 64)\n"
     ]
    }
   ],
   "source": [
    "from sklearn.model_selection import train_test_split\n",
    "from sklearn.metrics import accuracy_score\n",
    "\n",
    "\n",
    "Xtrain, Xtest, ytrain, ytest = train_test_split(X, y, random_state=42)\n",
    "print(Xtrain.shape, Xtest.shape)"
   ]
  },
  {
   "cell_type": "markdown",
   "metadata": {},
   "source": [
    "### Starting with LogisticRegression"
   ]
  },
  {
   "cell_type": "code",
   "execution_count": 42,
   "metadata": {},
   "outputs": [
    {
     "name": "stdout",
     "output_type": "stream",
     "text": [
      "CPU times: user 181 ms, sys: 5.02 ms, total: 187 ms\n",
      "Wall time: 186 ms\n"
     ]
    }
   ],
   "source": [
    "import timeit\n",
    "from sklearn.linear_model import LogisticRegression\n",
    "clf = LogisticRegression(solver=\"liblinear\", multi_class=\"auto\")\n",
    "%time clf.fit(Xtrain,ytrain)\n",
    "ypred = clf.predict(Xtest)"
   ]
  },
  {
   "cell_type": "code",
   "execution_count": 43,
   "metadata": {},
   "outputs": [
    {
     "data": {
      "text/plain": [
       "0.9666666666666667"
      ]
     },
     "execution_count": 43,
     "metadata": {},
     "output_type": "execute_result"
    }
   ],
   "source": [
    "accuracy_score(ytest,ypred)"
   ]
  },
  {
   "cell_type": "code",
   "execution_count": 44,
   "metadata": {},
   "outputs": [
    {
     "name": "stdout",
     "output_type": "stream",
     "text": [
      "[[42  0  0  0  1  0  0  0  0  0]\n",
      " [ 0 36  0  0  0  0  0  0  1  0]\n",
      " [ 0  0 38  0  0  0  0  0  0  0]\n",
      " [ 0  0  0 44  0  1  0  0  1  0]\n",
      " [ 0  1  0  0 54  0  0  0  0  0]\n",
      " [ 0  0  1  0  0 56  0  0  1  1]\n",
      " [ 0  0  0  0  0  1 44  0  0  0]\n",
      " [ 0  0  0  0  0  0  0 40  0  1]\n",
      " [ 0  1  0  0  0  1  0  0 36  0]\n",
      " [ 0  0  0  0  0  0  0  0  3 45]]\n"
     ]
    }
   ],
   "source": [
    "print(metrics.confusion_matrix(ytest,ypred))"
   ]
  },
  {
   "cell_type": "code",
   "execution_count": 45,
   "metadata": {},
   "outputs": [
    {
     "name": "stderr",
     "output_type": "stream",
     "text": [
      "/usr/lib/python3.7/site-packages/ipykernel_launcher.py:1: RuntimeWarning: divide by zero encountered in log\n",
      "  \"\"\"Entry point for launching an IPython kernel.\n"
     ]
    },
    {
     "data": {
      "image/png": "[encoded data removed]",
      "text/plain": [
       "<Figure size 432x288 with 1 Axes>"
      ]
     },
     "metadata": {
      "needs_background": "light"
     },
     "output_type": "display_data"
    }
   ],
   "source": [
    "plt.imshow(np.log(metrics.confusion_matrix(ytest,ypred)), \n",
    "           cmap = 'Reds',\n",
    "           interpolation='nearest')\n",
    "plt.grid(False)\n",
    "plt.ylabel('true')\n",
    "plt.xlabel('predicted');"
   ]
  },
  {
   "cell_type": "markdown",
   "metadata": {},
   "source": [
    "### Moving on to GaussianNB"
   ]
  },
  {
   "cell_type": "code",
   "execution_count": 46,
   "metadata": {},
   "outputs": [
    {
     "name": "stdout",
     "output_type": "stream",
     "text": [
      "CPU times: user 4.35 ms, sys: 2.7 ms, total: 7.05 ms\n",
      "Wall time: 5.09 ms\n",
      "\n",
      "\n",
      "training score : 0.857 \n"
     ]
    }
   ],
   "source": [
    "from sklearn.naive_bayes import GaussianNB\n",
    "clf = GaussianNB()\n",
    "%time clf.fit(Xtrain, ytrain)\n",
    "GaussianNB(priors = None) # class priors are adapted from the data\n",
    "print (\"\\n\")\n",
    "# print the training scores\n",
    "print(\"training score : %.3f \" % clf.score(Xtrain, ytrain))\n"
   ]
  },
  {
   "cell_type": "code",
   "execution_count": 47,
   "metadata": {},
   "outputs": [
    {
     "name": "stdout",
     "output_type": "stream",
     "text": [
      "Test score:  0.8555555555555555\n"
     ]
    }
   ],
   "source": [
    "# Accuracy and test score\n",
    "ypred = clf.predict(Xtest)\n",
    "print (\"Test score: \",accuracy_score(ytest,ypred))\n"
   ]
  },
  {
   "cell_type": "code",
   "execution_count": 48,
   "metadata": {},
   "outputs": [
    {
     "name": "stderr",
     "output_type": "stream",
     "text": [
      "/usr/lib/python3.7/site-packages/ipykernel_launcher.py:1: RuntimeWarning: divide by zero encountered in log\n",
      "  \"\"\"Entry point for launching an IPython kernel.\n"
     ]
    },
    {
     "data": {
      "image/png": "[encoded data removed]",
      "text/plain": [
       "<Figure size 432x288 with 1 Axes>"
      ]
     },
     "metadata": {
      "needs_background": "light"
     },
     "output_type": "display_data"
    }
   ],
   "source": [
    "plt.imshow(np.log(metrics.confusion_matrix(ytest,ypred)), \n",
    "           cmap = 'Reds',\n",
    "           interpolation='nearest')\n",
    "plt.grid(False)\n",
    "plt.ylabel('true')\n",
    "plt.xlabel('predicted');"
   ]
  },
  {
   "cell_type": "markdown",
   "metadata": {},
   "source": [
    "### Seeing with Multinomial Naive Bayes"
   ]
  },
  {
   "cell_type": "code",
   "execution_count": 49,
   "metadata": {},
   "outputs": [
    {
     "name": "stdout",
     "output_type": "stream",
     "text": [
      "CPU times: user 3.22 ms, sys: 0 ns, total: 3.22 ms\n",
      "Wall time: 2.28 ms\n",
      "\n",
      "\n",
      "training score : 0.905 \n"
     ]
    }
   ],
   "source": [
    "from sklearn.naive_bayes import MultinomialNB\n",
    "clf = MultinomialNB()\n",
    "%time clf.fit(Xtrain, ytrain)\n",
    "MultinomialNB(alpha=1e-2, class_prior=None, fit_prior=True)\n",
    "print (\"\\n\")\n",
    "# print the training scores\n",
    "print(\"training score : %.3f \" % clf.score(Xtrain, ytrain))\n"
   ]
  },
  {
   "cell_type": "code",
   "execution_count": 50,
   "metadata": {},
   "outputs": [
    {
     "name": "stdout",
     "output_type": "stream",
     "text": [
      "Test score:  0.9155555555555556\n"
     ]
    }
   ],
   "source": [
    "# Accuracy and test score\n",
    "ypred = clf.predict(Xtest)\n",
    "print (\"Test score: \", accuracy_score(ytest,ypred))"
   ]
  },
  {
   "cell_type": "code",
   "execution_count": 51,
   "metadata": {},
   "outputs": [
    {
     "name": "stderr",
     "output_type": "stream",
     "text": [
      "/usr/lib/python3.7/site-packages/ipykernel_launcher.py:1: RuntimeWarning: divide by zero encountered in log\n",
      "  \"\"\"Entry point for launching an IPython kernel.\n"
     ]
    },
    {
     "data": {
      "image/png": "[encoded data removed]",
      "text/plain": [
       "<Figure size 432x288 with 1 Axes>"
      ]
     },
     "metadata": {
      "needs_background": "light"
     },
     "output_type": "display_data"
    }
   ],
   "source": [
    "plt.imshow(np.log(metrics.confusion_matrix(ytest,ypred)), \n",
    "           cmap = 'Reds',\n",
    "           interpolation='nearest')\n",
    "plt.grid(False)\n",
    "plt.ylabel('true')\n",
    "plt.xlabel('predicted');"
   ]
  },
  {
   "cell_type": "markdown",
   "metadata": {},
   "source": [
    "### Now comparing with kNN"
   ]
  },
  {
   "cell_type": "code",
   "execution_count": 52,
   "metadata": {},
   "outputs": [
    {
     "name": "stdout",
     "output_type": "stream",
     "text": [
      "CPU times: user 3.43 ms, sys: 24 µs, total: 3.46 ms\n",
      "Wall time: 2.67 ms\n",
      "training score : 0.989 \n"
     ]
    }
   ],
   "source": [
    "clf = neighbors.KNeighborsClassifier()\n",
    "%time clf.fit(Xtrain,ytrain)\n",
    "\n",
    "# print the training scores\n",
    "print(\"training score : %.3f \" % clf.score(Xtrain, ytrain))"
   ]
  },
  {
   "cell_type": "code",
   "execution_count": 53,
   "metadata": {},
   "outputs": [
    {
     "name": "stdout",
     "output_type": "stream",
     "text": [
      "Test score:  0.9933333333333333\n"
     ]
    }
   ],
   "source": [
    "# Accuracy and test score\n",
    "ypred = clf.predict(Xtest)\n",
    "print (\"Test score: \", accuracy_score(ytest,ypred))"
   ]
  },
  {
   "cell_type": "code",
   "execution_count": 54,
   "metadata": {},
   "outputs": [
    {
     "name": "stderr",
     "output_type": "stream",
     "text": [
      "/usr/lib/python3.7/site-packages/ipykernel_launcher.py:1: RuntimeWarning: divide by zero encountered in log\n",
      "  \"\"\"Entry point for launching an IPython kernel.\n"
     ]
    },
    {
     "data": {
      "image/png": "[encoded data removed]",
      "text/plain": [
       "<Figure size 432x288 with 1 Axes>"
      ]
     },
     "metadata": {
      "needs_background": "light"
     },
     "output_type": "display_data"
    }
   ],
   "source": [
    "plt.imshow(np.log(metrics.confusion_matrix(ytest,ypred)), \n",
    "           cmap = 'Reds',\n",
    "           interpolation='nearest')\n",
    "plt.grid(False)\n",
    "plt.ylabel('true')\n",
    "plt.xlabel('predicted');"
   ]
  },
  {
   "cell_type": "markdown",
   "metadata": {},
   "source": [
    "### Optimizing the kNN"
   ]
  },
  {
   "cell_type": "code",
   "execution_count": 55,
   "metadata": {},
   "outputs": [
    {
     "name": "stdout",
     "output_type": "stream",
     "text": [
      "\n",
      " The best parameters are {'algorithm': 'brute', 'metric': 'euclidean', 'n_neighbors': 1} with a score of 0.99\n",
      "\n",
      "\n"
     ]
    }
   ],
   "source": [
    "# first method: kNN classifier for the scaled data\n",
    "# optimize the metaparameter k by cross-validation\n",
    "\n",
    "params = {\"n_neighbors\": np.arange(1, 31, 2),\n",
    "    \"metric\": [\"euclidean\", \"cityblock\"],\n",
    "    \"algorithm\": [\"brute\"]}\n",
    "cv = StratifiedShuffleSplit(n_splits=3, test_size=0.2, random_state=42)\n",
    "grid = GridSearchCV(neighbors.KNeighborsClassifier(), param_grid=params, cv=cv, n_jobs=-1)\n",
    "grid.fit(Xtrain, ytrain)\n",
    "best_param = grid.best_params_\n",
    "\n",
    "print(\"\\n The best parameters are %s with a score of %0.2f\" % (grid.best_params_, grid.best_score_))\n",
    "print (\"\\n\")"
   ]
  },
  {
   "cell_type": "code",
   "execution_count": 56,
   "metadata": {},
   "outputs": [
    {
     "name": "stdout",
     "output_type": "stream",
     "text": [
      "CPU times: user 1.39 ms, sys: 0 ns, total: 1.39 ms\n",
      "Wall time: 1.12 ms\n",
      "\n",
      "\n",
      "knn: 1.00 training score, 0.98 test score\n",
      "\n",
      "\n"
     ]
    }
   ],
   "source": [
    "# For the scaled data\n",
    "# Now fit the model with optimum parameters for all training data, evaluate on the test set\n",
    "\n",
    "clf = neighbors.KNeighborsClassifier(best_param['n_neighbors'],metric=best_param['metric'],algorithm=best_param['algorithm'])\n",
    "%time clf.fit(Xtrain,ytrain)\n",
    "eval_train = clf.score(Xtrain,ytrain)\n",
    "eval_test = clf.score(Xtest,ytest)\n",
    "print(\"\\n\")\n",
    "print(\"knn: %0.2f training score, %0.2f test score\\n\" % (eval_train,eval_test))\n",
    "print(\"\")     "
   ]
  },
  {
   "cell_type": "code",
   "execution_count": 57,
   "metadata": {},
   "outputs": [
    {
     "data": {
      "text/plain": [
       "0.9822222222222222"
      ]
     },
     "execution_count": 57,
     "metadata": {},
     "output_type": "execute_result"
    }
   ],
   "source": [
    "# Accuracy and test score\n",
    "ypred = clf.predict(Xtest)\n",
    "accuracy_score(ytest,ypred)"
   ]
  },
  {
   "cell_type": "code",
   "execution_count": 58,
   "metadata": {},
   "outputs": [
    {
     "name": "stderr",
     "output_type": "stream",
     "text": [
      "/usr/lib/python3.7/site-packages/ipykernel_launcher.py:3: RuntimeWarning: divide by zero encountered in log\n",
      "  This is separate from the ipykernel package so we can avoid doing imports until\n"
     ]
    },
    {
     "data": {
      "image/png": "[encoded data removed]",
      "text/plain": [
       "<Figure size 432x288 with 1 Axes>"
      ]
     },
     "metadata": {
      "needs_background": "light"
     },
     "output_type": "display_data"
    }
   ],
   "source": [
    "y = metrics.confusion_matrix(ytest,ypred)\n",
    "y[y == 0] =0.01 # to prevent dividing by zeros\n",
    "plt.imshow(np.log(y), \n",
    "           cmap = 'Reds',\n",
    "           interpolation='nearest')\n",
    "plt.grid(False)\n",
    "plt.ylabel('true')\n",
    "plt.xlabel('predicted');"
   ]
  }
 ],
 "metadata": {
  "kernelspec": {
   "display_name": "Python 3",
   "language": "python",
   "name": "python3"
  },
  "language_info": {
   "codemirror_mode": {
    "name": "ipython",
    "version": 3
   },
   "file_extension": ".py",
   "mimetype": "text/x-python",
   "name": "python",
   "nbconvert_exporter": "python",
   "pygments_lexer": "ipython3",
   "version": "3.7.1"
  }
 },
 "nbformat": 4,
 "nbformat_minor": 1
}
