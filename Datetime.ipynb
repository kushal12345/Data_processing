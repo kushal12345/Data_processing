{
 "cells": [
  {
   "cell_type": "markdown",
   "metadata": {},
   "source": [
    "# Date time Representation"
   ]
  },
  {
   "cell_type": "code",
   "execution_count": 1,
   "metadata": {},
   "outputs": [],
   "source": [
    "import datetime"
   ]
  },
  {
   "cell_type": "code",
   "execution_count": 2,
   "metadata": {},
   "outputs": [
    {
     "name": "stdout",
     "output_type": "stream",
     "text": [
      "The date today is : 2018-07-05 20:50:44.816393\n"
     ]
    }
   ],
   "source": [
    "print('The date today is :',datetime.datetime.today())"
   ]
  },
  {
   "cell_type": "code",
   "execution_count": 4,
   "metadata": {},
   "outputs": [
    {
     "name": "stdout",
     "output_type": "stream",
     "text": [
      "2018-07-05\n"
     ]
    }
   ],
   "source": [
    "date_today = datetime.date.today()\n",
    "print(date_today)"
   ]
  },
  {
   "cell_type": "code",
   "execution_count": 5,
   "metadata": {},
   "outputs": [
    {
     "name": "stdout",
     "output_type": "stream",
     "text": [
      "This year : 2018\n"
     ]
    }
   ],
   "source": [
    "print('This year :', date_today.year)"
   ]
  },
  {
   "cell_type": "code",
   "execution_count": 6,
   "metadata": {},
   "outputs": [
    {
     "name": "stdout",
     "output_type": "stream",
     "text": [
      "This month : 7\n"
     ]
    }
   ],
   "source": [
    "print('This month :', date_today.month)"
   ]
  },
  {
   "cell_type": "code",
   "execution_count": 7,
   "metadata": {},
   "outputs": [
    {
     "name": "stdout",
     "output_type": "stream",
     "text": [
      "Month name: July\n"
     ]
    }
   ],
   "source": [
    "print('Month name:',date_today.strftime('%B'))"
   ]
  },
  {
   "cell_type": "code",
   "execution_count": 8,
   "metadata": {},
   "outputs": [
    {
     "name": "stdout",
     "output_type": "stream",
     "text": [
      "This week day : 5\n"
     ]
    }
   ],
   "source": [
    "print('This week day :', date_today.day)"
   ]
  },
  {
   "cell_type": "code",
   "execution_count": 9,
   "metadata": {},
   "outputs": [
    {
     "name": "stdout",
     "output_type": "stream",
     "text": [
      "Weekday Name : Thursday\n"
     ]
    }
   ],
   "source": [
    "print('Weekday Name :', date_today.strftime('%A'))"
   ]
  },
  {
   "cell_type": "markdown",
   "metadata": {},
   "source": [
    "# Date time arithmetic"
   ]
  },
  {
   "cell_type": "code",
   "execution_count": 10,
   "metadata": {},
   "outputs": [
    {
     "name": "stdout",
     "output_type": "stream",
     "text": [
      "Day 1: Mon Feb 12 00:00:00 2018\n"
     ]
    }
   ],
   "source": [
    "day1 = datetime.date(2018, 2, 12)\n",
    "print('Day 1:',day1.ctime())"
   ]
  },
  {
   "cell_type": "code",
   "execution_count": 11,
   "metadata": {},
   "outputs": [
    {
     "name": "stdout",
     "output_type": "stream",
     "text": [
      "Day2: Fri Aug 18 00:00:00 2017\n"
     ]
    }
   ],
   "source": [
    "day2 = datetime.date(2017, 8, 18)\n",
    "print('Day2:',day2.ctime())"
   ]
  },
  {
   "cell_type": "code",
   "execution_count": 12,
   "metadata": {},
   "outputs": [
    {
     "name": "stdout",
     "output_type": "stream",
     "text": [
      "Number of days: 178 days, 0:00:00\n"
     ]
    }
   ],
   "source": [
    "print('Number of days:',day1-day2)"
   ]
  },
  {
   "cell_type": "code",
   "execution_count": 13,
   "metadata": {},
   "outputs": [],
   "source": [
    "date_today = datetime.date.today()"
   ]
  },
  {
   "cell_type": "code",
   "execution_count": 14,
   "metadata": {},
   "outputs": [],
   "source": [
    "# Create delta of four days\n",
    "no_of_days = datetime.timedelta(days=4)"
   ]
  },
  {
   "cell_type": "code",
   "execution_count": 15,
   "metadata": {},
   "outputs": [
    {
     "name": "stdout",
     "output_type": "stream",
     "text": [
      "Before Four days: 2018-07-01\n"
     ]
    }
   ],
   "source": [
    "#use delta for past date\n",
    "before_four_days = date_today - no_of_days\n",
    "print('Before Four days:',before_four_days)"
   ]
  },
  {
   "cell_type": "code",
   "execution_count": 16,
   "metadata": {},
   "outputs": [
    {
     "name": "stdout",
     "output_type": "stream",
     "text": [
      "After four days: 2018-07-09\n"
     ]
    }
   ],
   "source": [
    "#use delta for future use\n",
    "after_four_days = date_today + no_of_days\n",
    "print('After four days:', after_four_days)"
   ]
  },
  {
   "cell_type": "markdown",
   "metadata": {},
   "source": [
    "# Date time comparision"
   ]
  },
  {
   "cell_type": "code",
   "execution_count": 18,
   "metadata": {},
   "outputs": [
    {
     "name": "stdout",
     "output_type": "stream",
     "text": [
      "Today is: 2018-07-05\n"
     ]
    }
   ],
   "source": [
    "print('Today is:', date_today)\n"
   ]
  },
  {
   "cell_type": "code",
   "execution_count": 19,
   "metadata": {},
   "outputs": [],
   "source": [
    "# Create a delta of Four Days \n",
    "no_of_days = datetime.timedelta(days=4)"
   ]
  },
  {
   "cell_type": "code",
   "execution_count": 20,
   "metadata": {},
   "outputs": [
    {
     "name": "stdout",
     "output_type": "stream",
     "text": [
      "Before Four Days: 2018-07-01\n"
     ]
    }
   ],
   "source": [
    "# Use Delta for Past Date\n",
    "before_four_days = date_today - no_of_days \n",
    "print('Before Four Days:', before_four_days) \n"
   ]
  },
  {
   "cell_type": "code",
   "execution_count": 21,
   "metadata": {},
   "outputs": [],
   "source": [
    "after_four_days =  date_today + no_of_days"
   ]
  },
  {
   "cell_type": "code",
   "execution_count": 22,
   "metadata": {},
   "outputs": [
    {
     "name": "stdout",
     "output_type": "stream",
     "text": [
      "date1: 2018-04-04\n"
     ]
    }
   ],
   "source": [
    "date1 = datetime.date(2018,4,4)\n",
    "print('date1:',date1)"
   ]
  },
  {
   "cell_type": "code",
   "execution_count": 23,
   "metadata": {},
   "outputs": [
    {
     "name": "stdout",
     "output_type": "stream",
     "text": [
      "Past Date\n",
      "Future Date\n"
     ]
    }
   ],
   "source": [
    "if date1 == before_four_days :\n",
    "    print('Same Dates')\n",
    "if date_today > date1:\n",
    "    print('Past Date')\n",
    "if date1 < after_four_days:\n",
    "    print('Future Date')"
   ]
  },
  {
   "cell_type": "code",
   "execution_count": null,
   "metadata": {},
   "outputs": [],
   "source": []
  }
 ],
 "metadata": {
  "kernelspec": {
   "display_name": "Python 3",
   "language": "python",
   "name": "python3"
  },
  "language_info": {
   "codemirror_mode": {
    "name": "ipython",
    "version": 3
   },
   "file_extension": ".py",
   "mimetype": "text/x-python",
   "name": "python",
   "nbconvert_exporter": "python",
   "pygments_lexer": "ipython3",
   "version": "3.7.1"
  }
 },
 "nbformat": 4,
 "nbformat_minor": 2
}
