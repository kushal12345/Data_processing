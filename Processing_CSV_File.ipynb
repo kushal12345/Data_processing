{
 "cells": [
  {
   "cell_type": "code",
   "execution_count": 1,
   "metadata": {},
   "outputs": [],
   "source": [
    "import pandas as pd\n"
   ]
  },
  {
   "cell_type": "code",
   "execution_count": 2,
   "metadata": {},
   "outputs": [],
   "source": [
    "data = pd.read_csv('input.csv')"
   ]
  },
  {
   "cell_type": "code",
   "execution_count": 3,
   "metadata": {},
   "outputs": [
    {
     "name": "stdout",
     "output_type": "stream",
     "text": [
      "   id    name  salary  start_date        dept\n",
      "0   1    Rick  623.30  2012-01-01          IT\n",
      "1   2     Dan  515.20  2013-09-23  Operations\n",
      "2   3   Tusar  611.00  2014-11-15          IT\n",
      "3   4    Ryan  729.00  2014-05-11          HR\n",
      "4   5    Gary  843.25  2015-03-27     Finance\n",
      "5   6   Rasmi  578.00  2013-05-21          IT\n",
      "6   7  Pranab  632.80  2013-07-30  Operations\n",
      "7   8    Guru  722.50  2014-06-17     Finance\n"
     ]
    }
   ],
   "source": [
    "print(data)"
   ]
  },
  {
   "cell_type": "code",
   "execution_count": 4,
   "metadata": {},
   "outputs": [
    {
     "name": "stdout",
     "output_type": "stream",
     "text": [
      "0    623.30\n",
      "1    515.20\n",
      "2    611.00\n",
      "3    729.00\n",
      "4    843.25\n",
      "Name: salary, dtype: float64\n"
     ]
    }
   ],
   "source": [
    "print(data[0:5]['salary'])"
   ]
  },
  {
   "cell_type": "code",
   "execution_count": 5,
   "metadata": {},
   "outputs": [
    {
     "name": "stdout",
     "output_type": "stream",
     "text": [
      "     name  salary\n",
      "0    Rick  623.30\n",
      "1     Dan  515.20\n",
      "2   Tusar  611.00\n",
      "3    Ryan  729.00\n",
      "4    Gary  843.25\n",
      "5   Rasmi  578.00\n",
      "6  Pranab  632.80\n",
      "7    Guru  722.50\n"
     ]
    }
   ],
   "source": [
    "print(data.loc[:,['name','salary']])"
   ]
  },
  {
   "cell_type": "code",
   "execution_count": 6,
   "metadata": {},
   "outputs": [
    {
     "name": "stdout",
     "output_type": "stream",
     "text": [
      "    name  salary\n",
      "1    Dan   515.2\n",
      "3   Ryan   729.0\n",
      "5  Rasmi   578.0\n"
     ]
    }
   ],
   "source": [
    "print(data.loc[[1,3,5],['name','salary']])"
   ]
  },
  {
   "cell_type": "code",
   "execution_count": 7,
   "metadata": {},
   "outputs": [
    {
     "name": "stdout",
     "output_type": "stream",
     "text": [
      "     name  salary\n",
      "2   Tusar  611.00\n",
      "3    Ryan  729.00\n",
      "4    Gary  843.25\n",
      "5   Rasmi  578.00\n",
      "6  Pranab  632.80\n"
     ]
    }
   ],
   "source": [
    "print(data.loc[2:6,['name','salary']])"
   ]
  },
  {
   "cell_type": "code",
   "execution_count": null,
   "metadata": {},
   "outputs": [],
   "source": []
  }
 ],
 "metadata": {
  "kernelspec": {
   "display_name": "Python 3",
   "language": "python",
   "name": "python3"
  },
  "language_info": {
   "codemirror_mode": {
    "name": "ipython",
    "version": 3
   },
   "file_extension": ".py",
   "mimetype": "text/x-python",
   "name": "python",
   "nbconvert_exporter": "python",
   "pygments_lexer": "ipython3",
   "version": "3.7.1"
  }
 },
 "nbformat": 4,
 "nbformat_minor": 2
}
