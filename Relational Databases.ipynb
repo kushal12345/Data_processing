{
 "cells": [
  {
   "cell_type": "code",
   "execution_count": 16,
   "metadata": {},
   "outputs": [],
   "source": [
    "from sqlalchemy import create_engine\n",
    "from pandas.io import sql\n",
    "import pandas as pd"
   ]
  },
  {
   "cell_type": "code",
   "execution_count": 17,
   "metadata": {},
   "outputs": [
    {
     "name": "stdout",
     "output_type": "stream",
     "text": [
      "   id    name  salary  start_date        dept\n",
      "0   1    Rick  623.30  2012-01-01          IT\n",
      "1   2     Dan  515.20  2013-09-23  Operations\n",
      "2   3   Tusar  611.00  2014-11-15          IT\n",
      "3   4    Ryan  729.00  2014-05-11          HR\n",
      "4   5    Gary  843.25  2015-03-27     Finance\n",
      "5   6   Rasmi  578.00  2013-05-21          IT\n",
      "6   7  Pranab  632.80  2013-07-30  Operations\n",
      "7   8    Guru  722.50  2014-06-17     Finance\n"
     ]
    }
   ],
   "source": [
    "data = pd.read_csv('input.csv')\n",
    "print(data)"
   ]
  },
  {
   "cell_type": "code",
   "execution_count": 18,
   "metadata": {},
   "outputs": [],
   "source": [
    "#create db engine\n",
    "engine = create_engine('sqlite:///:memory:')"
   ]
  },
  {
   "cell_type": "code",
   "execution_count": 19,
   "metadata": {},
   "outputs": [],
   "source": [
    "#store the dataframe as a table\n",
    "data.to_sql('data_table',engine)"
   ]
  },
  {
   "cell_type": "code",
   "execution_count": 20,
   "metadata": {},
   "outputs": [
    {
     "name": "stdout",
     "output_type": "stream",
     "text": [
      "Result 1\n",
      "   index  id    name  salary  start_date        dept\n",
      "0      0   1    Rick  623.30  2012-01-01          IT\n",
      "1      1   2     Dan  515.20  2013-09-23  Operations\n",
      "2      2   3   Tusar  611.00  2014-11-15          IT\n",
      "3      3   4    Ryan  729.00  2014-05-11          HR\n",
      "4      4   5    Gary  843.25  2015-03-27     Finance\n",
      "5      5   6   Rasmi  578.00  2013-05-21          IT\n",
      "6      6   7  Pranab  632.80  2013-07-30  Operations\n",
      "7      7   8    Guru  722.50  2014-06-17     Finance\n"
     ]
    }
   ],
   "source": [
    "#Query 1 on the relational table\n",
    "res1 = pd.read_sql_query('Select * From data_table',engine)\n",
    "print('Result 1')\n",
    "print(res1)"
   ]
  },
  {
   "cell_type": "code",
   "execution_count": 21,
   "metadata": {},
   "outputs": [
    {
     "name": "stdout",
     "output_type": "stream",
     "text": [
      "Result 2\n",
      "         dept  sum(salary)\n",
      "0     Finance      1565.75\n",
      "1          HR       729.00\n",
      "2          IT      1812.30\n",
      "3  Operations      1148.00\n"
     ]
    }
   ],
   "source": [
    "#query 2 on the relational table\n",
    "res2 = pd.read_sql_query('Select dept,sum(salary) From data_table group by dept',engine)\n",
    "print('Result 2')\n",
    "print(res2)"
   ]
  },
  {
   "cell_type": "markdown",
   "metadata": {},
   "source": [
    "# inserting into relational databases "
   ]
  },
  {
   "cell_type": "code",
   "execution_count": 22,
   "metadata": {},
   "outputs": [
    {
     "data": {
      "text/plain": [
       "<sqlalchemy.engine.result.ResultProxy at 0x7fc44bfa7748>"
      ]
     },
     "execution_count": 22,
     "metadata": {},
     "output_type": "execute_result"
    }
   ],
   "source": [
    "sql.execute('INSERT INTO data_table VALUES(?,?,?,?,?,?)',engine, params=[('id',9,'Ruby',711.20,'2015-03-27','IT')])"
   ]
  },
  {
   "cell_type": "code",
   "execution_count": 23,
   "metadata": {},
   "outputs": [
    {
     "name": "stdout",
     "output_type": "stream",
     "text": [
      "   id        dept    name  salary  start_date\n",
      "0   1          IT    Rick  623.30  2012-01-01\n",
      "1   2  Operations     Dan  515.20  2013-09-23\n",
      "2   3          IT   Tusar  611.00  2014-11-15\n",
      "3   4          HR    Ryan  729.00  2014-05-11\n",
      "4   5     Finance    Gary  843.25  2015-03-27\n",
      "5   6          IT   Rasmi  578.00  2013-05-21\n",
      "6   7  Operations  Pranab  632.80  2013-07-30\n",
      "7   8     Finance    Guru  722.50  2014-06-17\n",
      "8   9          IT    Ruby  711.20  2015-03-27\n"
     ]
    }
   ],
   "source": [
    "res = pd.read_sql_query('SELECT ID,Dept,Name,Salary,start_date FROM data_table', engine)\n",
    "print(res)\n"
   ]
  },
  {
   "cell_type": "markdown",
   "metadata": {},
   "source": [
    "# Deleting data"
   ]
  },
  {
   "cell_type": "code",
   "execution_count": 25,
   "metadata": {},
   "outputs": [
    {
     "name": "stdout",
     "output_type": "stream",
     "text": [
      "   id        dept    name  salary  start_date\n",
      "0   1          IT    Rick   623.3  2012-01-01\n",
      "1   2  Operations     Dan   515.2  2013-09-23\n",
      "2   3          IT   Tusar   611.0  2014-11-15\n",
      "3   4          HR    Ryan   729.0  2014-05-11\n",
      "4   6          IT   Rasmi   578.0  2013-05-21\n",
      "5   7  Operations  Pranab   632.8  2013-07-30\n",
      "6   8     Finance    Guru   722.5  2014-06-17\n",
      "7   9          IT    Ruby   711.2  2015-03-27\n"
     ]
    }
   ],
   "source": [
    "sql.execute('Delete From data_table where name = (?)',engine, params=[('Gary')])\n",
    "res = pd.read_sql_query('SELECT ID,Dept,Name,Salary,start_date FROM data_table', engine)\n",
    "print(res)"
   ]
  },
  {
   "cell_type": "code",
   "execution_count": null,
   "metadata": {},
   "outputs": [],
   "source": []
  }
 ],
 "metadata": {
  "kernelspec": {
   "display_name": "Python 3",
   "language": "python",
   "name": "python3"
  },
  "language_info": {
   "codemirror_mode": {
    "name": "ipython",
    "version": 3
   },
   "file_extension": ".py",
   "mimetype": "text/x-python",
   "name": "python",
   "nbconvert_exporter": "python",
   "pygments_lexer": "ipython3",
   "version": "3.6.5"
  }
 },
 "nbformat": 4,
 "nbformat_minor": 2
}
